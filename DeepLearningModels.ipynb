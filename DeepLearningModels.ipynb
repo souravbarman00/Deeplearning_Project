{
 "cells": [
  {
   "cell_type": "code",
   "execution_count": 177,
   "metadata": {},
   "outputs": [],
   "source": [
    "import numpy as np\n",
    "import time\n",
    "np.random.seed(1337)"
   ]
  },
  {
   "cell_type": "code",
   "execution_count": 178,
   "metadata": {
    "scrolled": true
   },
   "outputs": [],
   "source": [
    "from keras.preprocessing.text import Tokenizer\n",
    "from keras.preprocessing.sequence import pad_sequences\n",
    "from keras.utils.np_utils import to_categorical\n",
    "from keras.layers import Dense, Flatten,Dropout,Activation\n",
    "from keras.layers import Conv1D,Convolution2D, Embedding\n",
    "from keras.models import Sequential , Model\n",
    "from keras.layers import Input , Concatenate ,add ,Flatten,InputLayer\n",
    "from keras.optimizers import SGD\n",
    "from importlib import reload\n",
    "from matplotlib import pyplot\n",
    "import pandas as pd\n",
    "from keras.utils.vis_utils import plot_model"
   ]
  },
  {
   "cell_type": "code",
   "execution_count": null,
   "metadata": {},
   "outputs": [],
   "source": []
  },
  {
   "cell_type": "code",
   "execution_count": 179,
   "metadata": {},
   "outputs": [
    {
     "name": "stdout",
     "output_type": "stream",
     "text": [
      "start time: 2020/05/30  00:25:38\n"
     ]
    }
   ],
   "source": [
    "print (\"start time: \"+time.strftime(\"%Y/%m/%d  %H:%M:%S\"))\n",
    "distances = []  # TrainSet\n",
    "labels = []  # 0/1\n",
    "MAX_SEQUENCE_LENGTH = 15 \n",
    "#EMBEDDING_DIM = 200 # Dimension of word vector\n"
   ]
  },
  {
   "cell_type": "code",
   "execution_count": 180,
   "metadata": {},
   "outputs": [],
   "source": [
    "with open('Inputdata.txt','r') as file_to_read:\n",
    "    for line in file_to_read.readlines():\n",
    "        values = line.rstrip().split(\" \")\n",
    "        distance = values[:-1]\n",
    "        distances.append(distance)\n",
    "        label =values[7:]\n",
    "        labels.append(label)"
   ]
  },
  {
   "cell_type": "code",
   "execution_count": 181,
   "metadata": {},
   "outputs": [
    {
     "name": "stdout",
     "output_type": "stream",
     "text": [
      "Found 884 train_distances.\n"
     ]
    }
   ],
   "source": [
    "print('Found %s train_distances.' % len(distances)) "
   ]
  },
  {
   "cell_type": "code",
   "execution_count": 182,
   "metadata": {},
   "outputs": [],
   "source": [
    "\n",
    "distances = np.asarray(distances)\n",
    "labels = to_categorical(np.asarray(labels))"
   ]
  },
  {
   "cell_type": "code",
   "execution_count": 183,
   "metadata": {},
   "outputs": [],
   "source": [
    "n_test = 734\n",
    "trainX, testX = distances[:n_test, :], distances[n_test:, :]\n",
    "trainy, testy = labels[:n_test], labels[n_test:]\n"
   ]
  },
  {
   "cell_type": "code",
   "execution_count": 184,
   "metadata": {},
   "outputs": [
    {
     "name": "stdout",
     "output_type": "stream",
     "text": [
      "Found 734 train_distances.\n",
      "Found 150 test_distances.\n",
      "Shape of test_label tensor: (150, 8)\n",
      "Shape of train_label tensor: (734, 8)\n"
     ]
    }
   ],
   "source": [
    "print('Found %s train_distances.' % len(trainX)) \n",
    "print('Found %s test_distances.' % len(testX)) \n",
    "print('Shape of test_label tensor:', testy.shape)\n",
    "print('Shape of train_label tensor:', trainy.shape)\n"
   ]
  },
  {
   "cell_type": "code",
   "execution_count": 185,
   "metadata": {},
   "outputs": [
    {
     "name": "stdout",
     "output_type": "stream",
     "text": [
      "Training model.\n",
      "[[0. 0. 0. ... 0. 0. 0.]\n",
      " [0. 0. 0. ... 1. 0. 0.]\n",
      " [0. 0. 0. ... 0. 0. 1.]\n",
      " ...\n",
      " [0. 1. 0. ... 0. 0. 0.]\n",
      " [0. 0. 0. ... 0. 0. 1.]\n",
      " [0. 0. 0. ... 0. 0. 0.]]\n"
     ]
    }
   ],
   "source": [
    "x_train = []\n",
    "x_train_dis = trainX \n",
    "x_train_dis = np.expand_dims(x_train_dis, axis=2)\n",
    "x_train.append(np.array(x_train_dis))\n",
    "x_train_lbl = np.array(trainy)\n",
    "print('Training model.')\n",
    "print(x_train_lbl)"
   ]
  },
  {
   "cell_type": "code",
   "execution_count": 186,
   "metadata": {},
   "outputs": [
    {
     "name": "stdout",
     "output_type": "stream",
     "text": [
      "[[0. 1. 0. ... 0. 0. 0.]\n",
      " [0. 1. 0. ... 0. 0. 0.]\n",
      " [0. 1. 0. ... 0. 0. 0.]\n",
      " ...\n",
      " [0. 0. 0. ... 0. 0. 1.]\n",
      " [0. 0. 0. ... 0. 0. 0.]\n",
      " [0. 0. 0. ... 0. 1. 0.]]\n"
     ]
    }
   ],
   "source": [
    "y_test = []\n",
    "y_test_dis = testX \n",
    "y_test_dis = np.expand_dims(y_test_dis, axis=2)\n",
    "y_test.append(np.array(y_test_dis))\n",
    "y_test_lbl = np.array(testy)\n",
    "print(y_test_lbl)"
   ]
  },
  {
   "cell_type": "markdown",
   "metadata": {},
   "source": [
    "<h><b>Deep Neural Network</b></h>"
   ]
  },
  {
   "cell_type": "code",
   "execution_count": 187,
   "metadata": {},
   "outputs": [
    {
     "name": "stdout",
     "output_type": "stream",
     "text": [
      "_________________________________________________________________\n",
      "Layer (type)                 Output Shape              Param #   \n",
      "=================================================================\n",
      "dense_80 (Dense)             (None, 128)               1024      \n",
      "_________________________________________________________________\n",
      "dropout_73 (Dropout)         (None, 128)               0         \n",
      "_________________________________________________________________\n",
      "dense_81 (Dense)             (None, 128)               16512     \n",
      "_________________________________________________________________\n",
      "dropout_74 (Dropout)         (None, 128)               0         \n",
      "_________________________________________________________________\n",
      "dense_82 (Dense)             (None, 8)                 1032      \n",
      "=================================================================\n",
      "Total params: 18,568\n",
      "Trainable params: 18,568\n",
      "Non-trainable params: 0\n",
      "_________________________________________________________________\n"
     ]
    }
   ],
   "source": [
    "M=Sequential()\n",
    "M.add(Dense(128,activation='relu',input_dim=7))\n",
    "M.add(Dropout(0.5))\n",
    "M.add(Dense(128,activation='relu'))\n",
    "M.add(Dropout(0.5))\n",
    "M.add(Dense(8,activation='softmax'))\n",
    "sgd=SGD(lr=0.01,decay=1e-6,momentum=0.9,nesterov=True)\n",
    "M.summary()\n",
    "plot_model(M, to_file='model_MLP.png', show_shapes=True, show_layer_names=True)"
   ]
  },
  {
   "cell_type": "code",
   "execution_count": 188,
   "metadata": {},
   "outputs": [],
   "source": [
    "M.compile(loss='categorical_crossentropy',\n",
    "              optimizer='Adadelta',\n",
    "              metrics=['accuracy'])"
   ]
  },
  {
   "cell_type": "code",
   "execution_count": 192,
   "metadata": {},
   "outputs": [
    {
     "data": {
      "text/plain": [
       "<keras.callbacks.History at 0x22c0000bd68>"
      ]
     },
     "execution_count": 192,
     "metadata": {},
     "output_type": "execute_result"
    }
   ],
   "source": [
    "M.fit(trainX, trainy,epochs=500,verbose=0)"
   ]
  },
  {
   "cell_type": "code",
   "execution_count": 193,
   "metadata": {},
   "outputs": [
    {
     "name": "stdout",
     "output_type": "stream",
     "text": [
      "150/150 [==============================] - 0s 60us/step\n"
     ]
    }
   ],
   "source": [
    "_,TestAcuracy=M.evaluate(testX,testy)"
   ]
  },
  {
   "cell_type": "code",
   "execution_count": 195,
   "metadata": {},
   "outputs": [
    {
     "data": {
      "text/plain": [
       "0.9333333333333333"
      ]
     },
     "execution_count": 195,
     "metadata": {},
     "output_type": "execute_result"
    }
   ],
   "source": [
    "TestAcuracy"
   ]
  },
  {
   "cell_type": "markdown",
   "metadata": {},
   "source": [
    "<h><b>CNN Model</b></h>"
   ]
  },
  {
   "cell_type": "code",
   "execution_count": 170,
   "metadata": {
    "scrolled": true
   },
   "outputs": [
    {
     "name": "stdout",
     "output_type": "stream",
     "text": [
      "_________________________________________________________________\n",
      "Layer (type)                 Output Shape              Param #   \n",
      "=================================================================\n",
      "conv1d_38 (Conv1D)           (None, 7, 128)            256       \n",
      "_________________________________________________________________\n",
      "conv1d_39 (Conv1D)           (None, 7, 128)            16512     \n",
      "_________________________________________________________________\n",
      "conv1d_40 (Conv1D)           (None, 7, 128)            16512     \n",
      "_________________________________________________________________\n",
      "flatten_17 (Flatten)         (None, 896)               0         \n",
      "=================================================================\n",
      "Total params: 33,280\n",
      "Trainable params: 33,280\n",
      "Non-trainable params: 0\n",
      "_________________________________________________________________\n",
      "_________________________________________________________________\n",
      "Layer (type)                 Output Shape              Param #   \n",
      "=================================================================\n",
      "conv1d_38_input (InputLayer) (None, 7, 1)              0         \n",
      "_________________________________________________________________\n",
      "conv1d_38 (Conv1D)           (None, 7, 128)            256       \n",
      "_________________________________________________________________\n",
      "conv1d_39 (Conv1D)           (None, 7, 128)            16512     \n",
      "_________________________________________________________________\n",
      "conv1d_40 (Conv1D)           (None, 7, 128)            16512     \n",
      "_________________________________________________________________\n",
      "flatten_17 (Flatten)         (None, 896)               0         \n",
      "_________________________________________________________________\n",
      "sequential_57 (Sequential)   multiple                  0         \n",
      "_________________________________________________________________\n",
      "dense_63 (Dense)             (None, 128)               114816    \n",
      "_________________________________________________________________\n",
      "dense_64 (Dense)             (None, 8)                 1032      \n",
      "=================================================================\n",
      "Total params: 149,128\n",
      "Trainable params: 149,128\n",
      "Non-trainable params: 0\n",
      "_________________________________________________________________\n"
     ]
    }
   ],
   "source": [
    "\n",
    "model_right = Sequential()\n",
    "model_right.add(Conv1D(128, 1, input_shape=(7,1), padding = \"same\", activation='tanh'))\n",
    "model_right.add(Conv1D(128, 1, activation='tanh'))\n",
    "model_right.add(Conv1D(128, 1, activation='tanh'))\n",
    "model_right.add(Flatten())\n",
    "model_right.summary()\n",
    "\n",
    "\n",
    "new_model = Sequential()\n",
    "new_model.add(InputLayer(input_shape=(896,1)))\n",
    "finalOutput = new_model(model_right.output)\n",
    "model = Model([model_right.input],finalOutput)\n",
    "fc = Dense(128,activation='tanh')(model.output)\n",
    "fc2 = Dense(8,activation='softmax')(fc)\n",
    "model1 = Model(inputs=model.input, outputs=fc2)\n",
    "model1.summary()\n",
    "plot_model(model1, to_file='model_CNN.png', show_shapes=True, show_layer_names=True)\n",
    "\n",
    "model1.compile(loss='categorical_crossentropy',\n",
    "              optimizer='Adadelta',\n",
    "              metrics=['accuracy'])"
   ]
  },
  {
   "cell_type": "code",
   "execution_count": 202,
   "metadata": {},
   "outputs": [
    {
     "name": "stdout",
     "output_type": "stream",
     "text": [
      "start training:2020/05/30  11:31:32\n"
     ]
    }
   ],
   "source": [
    "print (\"start training:\"+time.strftime(\"%Y/%m/%d  %H:%M:%S\"))\n",
    "# fit model\n",
    "history=model1.fit(x_train, x_train_lbl, validation_data=(y_test, y_test_lbl), epochs=500, verbose=0)\n",
    "config = model1.get_config()\n"
   ]
  },
  {
   "cell_type": "code",
   "execution_count": 204,
   "metadata": {},
   "outputs": [],
   "source": [
    "# evaluate the model\n",
    "_, train_acc = model1.evaluate(x_train, x_train_lbl, verbose=0)\n",
    "_, test_acc = model1.evaluate(y_test, y_test_lbl, verbose=0)"
   ]
  },
  {
   "cell_type": "code",
   "execution_count": 205,
   "metadata": {},
   "outputs": [
    {
     "name": "stdout",
     "output_type": "stream",
     "text": [
      "Training Accuracy:\n",
      "1.0\n",
      "Testing Acuracy:\n",
      "0.9866666666666667\n"
     ]
    }
   ],
   "source": [
    "print(\"Training Accuracy:\")\n",
    "print(train_acc)\n",
    "print(\"Testing Acuracy:\")\n",
    "print(test_acc)\n"
   ]
  },
  {
   "cell_type": "markdown",
   "metadata": {},
   "source": [
    "<h><b>RNN Model</b></h>"
   ]
  },
  {
   "cell_type": "code",
   "execution_count": 175,
   "metadata": {},
   "outputs": [
    {
     "name": "stdout",
     "output_type": "stream",
     "text": [
      "_________________________________________________________________\n",
      "Layer (type)                 Output Shape              Param #   \n",
      "=================================================================\n",
      "lstm_53 (LSTM)               (None, 7, 50)             10400     \n",
      "_________________________________________________________________\n",
      "dropout_68 (Dropout)         (None, 7, 50)             0         \n",
      "_________________________________________________________________\n",
      "lstm_54 (LSTM)               (None, 7, 50)             20200     \n",
      "_________________________________________________________________\n",
      "dropout_69 (Dropout)         (None, 7, 50)             0         \n",
      "_________________________________________________________________\n",
      "lstm_55 (LSTM)               (None, 7, 50)             20200     \n",
      "_________________________________________________________________\n",
      "dropout_70 (Dropout)         (None, 7, 50)             0         \n",
      "_________________________________________________________________\n",
      "flatten_20 (Flatten)         (None, 350)               0         \n",
      "=================================================================\n",
      "Total params: 50,800\n",
      "Trainable params: 50,800\n",
      "Non-trainable params: 0\n",
      "_________________________________________________________________\n",
      "_________________________________________________________________\n",
      "Layer (type)                 Output Shape              Param #   \n",
      "=================================================================\n",
      "lstm_53_input (InputLayer)   (None, 7, 1)              0         \n",
      "_________________________________________________________________\n",
      "lstm_53 (LSTM)               (None, 7, 50)             10400     \n",
      "_________________________________________________________________\n",
      "dropout_68 (Dropout)         (None, 7, 50)             0         \n",
      "_________________________________________________________________\n",
      "lstm_54 (LSTM)               (None, 7, 50)             20200     \n",
      "_________________________________________________________________\n",
      "dropout_69 (Dropout)         (None, 7, 50)             0         \n",
      "_________________________________________________________________\n",
      "lstm_55 (LSTM)               (None, 7, 50)             20200     \n",
      "_________________________________________________________________\n",
      "dropout_70 (Dropout)         (None, 7, 50)             0         \n",
      "_________________________________________________________________\n",
      "flatten_20 (Flatten)         (None, 350)               0         \n",
      "_________________________________________________________________\n",
      "sequential_65 (Sequential)   multiple                  0         \n",
      "_________________________________________________________________\n",
      "dense_75 (Dense)             (None, 128)               44928     \n",
      "_________________________________________________________________\n",
      "dense_76 (Dense)             (None, 8)                 1032      \n",
      "=================================================================\n",
      "Total params: 96,760\n",
      "Trainable params: 96,760\n",
      "Non-trainable params: 0\n",
      "_________________________________________________________________\n"
     ]
    }
   ],
   "source": [
    "from keras.layers import LSTM\n",
    "RM=Sequential()\n",
    "RM.add(LSTM(units=50,return_sequences= True,input_shape=(7,1)))\n",
    "RM.add(Dropout(0.2))\n",
    "RM.add(LSTM(units=50,return_sequences= True))\n",
    "RM.add(Dropout(0.2))\n",
    "RM.add(LSTM(units=50,return_sequences= True))\n",
    "RM.add(Dropout(0.2))\n",
    "RM.add(Flatten())\n",
    "RM.summary()\n",
    "\n",
    "\n",
    "NM = Sequential()\n",
    "NM.add(InputLayer(input_shape=(350,1)))\n",
    "FO = NM(RM.output)\n",
    "M1 = Model([RM.input],FO)\n",
    "F = Dense(128,activation='tanh')(M1.output)\n",
    "F2 = Dense(8,activation='softmax')(F)\n",
    "M2 = Model(inputs=M1.input, outputs=F2)\n",
    "M2.summary()\n",
    "plot_model(M2, to_file='model_RNN.png', show_shapes=True, show_layer_names=True)"
   ]
  },
  {
   "cell_type": "code",
   "execution_count": 161,
   "metadata": {},
   "outputs": [],
   "source": [
    "M2.compile(loss='categorical_crossentropy',\n",
    "              optimizer='Adam',\n",
    "              metrics=['accuracy'])"
   ]
  },
  {
   "cell_type": "code",
   "execution_count": null,
   "metadata": {},
   "outputs": [],
   "source": []
  },
  {
   "cell_type": "code",
   "execution_count": 162,
   "metadata": {},
   "outputs": [
    {
     "data": {
      "text/plain": [
       "<keras.callbacks.History at 0x22c74e38780>"
      ]
     },
     "execution_count": 162,
     "metadata": {},
     "output_type": "execute_result"
    }
   ],
   "source": [
    "M2.fit(x_train, x_train_lbl, validation_data=(y_test, y_test_lbl), epochs=2000, verbose=0)"
   ]
  },
  {
   "cell_type": "code",
   "execution_count": 164,
   "metadata": {},
   "outputs": [],
   "source": [
    "_,TestAcuracy1=M2.evaluate(y_test, y_test_lbl, verbose=0)"
   ]
  },
  {
   "cell_type": "code",
   "execution_count": 165,
   "metadata": {},
   "outputs": [
    {
     "data": {
      "text/plain": [
       "0.96"
      ]
     },
     "execution_count": 165,
     "metadata": {},
     "output_type": "execute_result"
    }
   ],
   "source": [
    "TestAcuracy1"
   ]
  },
  {
   "cell_type": "code",
   "execution_count": 18,
   "metadata": {},
   "outputs": [],
   "source": [
    "json_string = model1.to_json()  \n",
    "open('my_model.json','w').write(json_string)  \n",
    "model1.save_weights('my_model_weights1.h5') "
   ]
  },
  {
   "cell_type": "code",
   "execution_count": 19,
   "metadata": {},
   "outputs": [
    {
     "name": "stdout",
     "output_type": "stream",
     "text": [
      "end time:2020/05/22  21:57:12\n"
     ]
    }
   ],
   "source": [
    "print (\"end time:\"+time.strftime(\"%Y/%m/%d  %H:%M:%S\"))"
   ]
  }
 ],
 "metadata": {
  "kernelspec": {
   "display_name": "Python 3",
   "language": "python",
   "name": "python3"
  },
  "language_info": {
   "codemirror_mode": {
    "name": "ipython",
    "version": 3
   },
   "file_extension": ".py",
   "mimetype": "text/x-python",
   "name": "python",
   "nbconvert_exporter": "python",
   "pygments_lexer": "ipython3",
   "version": "3.6.5"
  }
 },
 "nbformat": 4,
 "nbformat_minor": 2
}
